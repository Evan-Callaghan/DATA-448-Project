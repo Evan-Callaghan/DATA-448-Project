{
 "cells": [
  {
   "cell_type": "code",
   "execution_count": null,
   "id": "e1f13b35",
   "metadata": {},
   "outputs": [],
   "source": [
    "    GBC_ensemble_val_preds = GBC_ensemble.predict_proba(X_ensemble_val)    \n",
    "    GBC_ensemble_test_preds = GBC_ensemble.predict_proba(X_ensemble_test)"
   ]
  }
 ],
 "metadata": {
  "kernelspec": {
   "display_name": "conda_python3",
   "language": "python",
   "name": "conda_python3"
  },
  "language_info": {
   "codemirror_mode": {
    "name": "ipython",
    "version": 3
   },
   "file_extension": ".py",
   "mimetype": "text/x-python",
   "name": "python",
   "nbconvert_exporter": "python",
   "pygments_lexer": "ipython3",
   "version": "3.6.13"
  }
 },
 "nbformat": 4,
 "nbformat_minor": 5
}
