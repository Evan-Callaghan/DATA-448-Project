{
 "cells": [
  {
   "cell_type": "markdown",
   "metadata": {},
   "source": [
    "## Feature Engineering work"
   ]
  },
  {
   "cell_type": "code",
   "execution_count": 1,
   "metadata": {},
   "outputs": [],
   "source": [
    "import pandas as pd\n",
    "import numpy as np\n"
   ]
  },
  {
   "cell_type": "code",
   "execution_count": 2,
   "metadata": {},
   "outputs": [],
   "source": [
    "train = pd.read_csv('diabetes_train.csv')"
   ]
  },
  {
   "cell_type": "code",
   "execution_count": 3,
   "metadata": {},
   "outputs": [],
   "source": [
    "## All engineered features:\n",
    "\n",
    "## -----------------------------------------------------------------\n",
    "\n",
    "## BMI Categoricals\n",
    "train['BMI_Underweight'] = np.where(train['BMI'] < 18.5, 1, 0)\n",
    "train['BMI_Healthy'] = np.where((train['BMI'] >= 18.5) & (train['BMI'] < 25), 1, 0)\n",
    "train['BMI_Overweight'] = np.where((train['BMI'] >= 25) & (train['BMI'] < 30), 1, 0)\n",
    "train['BMI_Obese'] = np.where(train['BMI'] >= 30, 1, 0)\n",
    "\n",
    "\n",
    "## Log(BMI)\n",
    "train['Log_BMI'] = np.log(train['BMI'])\n",
    "\n",
    "## Creating dummy variables for Sex, Education, and Income\n",
    "train = pd.concat([train.drop(columns = ['Sex']), pd.get_dummies(train['Sex'])], axis = 1)\n",
    "train = train.rename(columns = { 0: 'Female', 1: 'Male'})\n",
    "\n",
    "train = pd.concat([train.drop(columns = ['Education']), pd.get_dummies(train['Education'])], axis = 1)\n",
    "train = train.rename(columns = { 0: 'Never_Attended', 1: 'Grades_1_8', 3: 'Grades_9_11', 4: 'GED', 5: 'College_1_3', \n",
    "                              6: 'College_4+'})\n",
    "\n",
    "train = pd.concat([train.drop(columns = ['Income']), pd.get_dummies(train['Income'])], axis = 1)\n",
    "train = train.rename(columns = { 0: '<10,000', 1: '<15,000', 3: '<20,000', 4: '<25,000', 5: '<35,000', \n",
    "                                      6: '<50,000',  7: '<75,000',  6: '75,000+'})\n",
    "\n",
    "## Fruits and Veggies\n",
    "train['Fruits+Veggies'] = np.where((train['Fruits'] == 1) & (train['Veggies'] == 1), 1, 0)\n",
    "\n",
    "## Health care issues\n",
    "train['HealthCareIssues'] = np.where((train['AnyHealthcare'] == 0) & (train['NoDocbcCost'] == 0), 1, 0)\n",
    "\n",
    "## Poor diet\n",
    "train['PoorDiet'] = np.where((train['Fruits'] == 0) & (train['Veggies'] == 0) & \n",
    "                                (train['HvyAlcoholConsump'] == 1), 1, 0)\n",
    "\n",
    "## Health categoricals\n",
    "train['MentHlth_cat'] = np.where((train.MentHlth <=10), 0, \n",
    "                                 np.where((train.MentHlth > 10) & (train.MentHlth <= 20), 1, 2))\n",
    "\n",
    "train['PhysHlth_cat'] = np.where((train.PhysHlth <=10), 0, \n",
    "                              np.where((train.PhysHlth > 10) & (train.PhysHlth <= 20), 1, 2))\n",
    "\n",
    "train['GenHlth_cat'] = np.where((train.GenHlth <=2), 0, \n",
    "                             np.where((train.GenHlth > 3) & (train.GenHlth <= 5), 1, 2))\n",
    "\n",
    "## Creating interactions\n",
    "train['Interaction_1'] = train['HighBP'] * train['GenHlth']\n",
    "train['Interaction_2'] = train['HighBP'] * train['GenHlth_cat']\n",
    "train['Interaction_3'] = train['HighBP'] * train['HighChol']\n",
    "train['Interaction_4'] = train['GenHlth'] * train['GenHlth_cat']\n",
    "train['Interaction_5'] = train['GenHlth'] * train['HighChol']\n",
    "train['Interaction_6'] = train['GenHlth_cat'] * train['HighChol']\n",
    "\n",
    "## Creating tree interactions\n",
    "train['Tree_1'] = np.where((train['Interaction_2'] <= 0.5) & (train['Interaction_5'] <= 1.5) & (train['Age'] <= 8.5), 1, 0)\n",
    "train['Tree_2'] = np.where((train['Interaction_2'] <= 0.5) & (train['Interaction_5'] <= 1.5) & (train['Age'] > 8.5), 1, 0)\n",
    "train['Tree_3'] = np.where((train['Interaction_2'] <= 0.5) & (train['Interaction_5'] > 1.5) & (train['Log_BMI'] <= 3.384), 1, 0)\n",
    "train['Tree_4'] = np.where((train['Interaction_2'] <= 0.5) & (train['Interaction_5'] > 1.5) & (train['Log_BMI'] > 3.384), 1, 0)\n",
    "train['Tree_5'] = np.where((train['Interaction_2'] > 0.5) & (train['Interaction_5'] <= 3.5) & (train['BMI'] <= 30.5), 1, 0)\n",
    "train['Tree_6'] = np.where((train['Interaction_2'] > 0.5) & (train['Interaction_5'] <= 3.5) & (train['BMI'] > 30.5), 1, 0)\n",
    "train['Tree_7'] = np.where((train['Interaction_2'] > 0.5) & (train['Interaction_5'] > 3.5) & (train['Log_BMI'] <= 3.481), 1, 0)\n",
    "train['Tree_8'] = np.where((train['Interaction_2'] > 0.5) & (train['Interaction_5'] > 3.5) & (train['Log_BMI'] > 3.481), 1, 0)"
   ]
  },
  {
   "cell_type": "code",
   "execution_count": 4,
   "metadata": {},
   "outputs": [],
   "source": [
    "train.to_csv('diabetes_full_train.csv', index = False)"
   ]
  }
 ],
 "metadata": {
  "kernelspec": {
   "display_name": "conda_python3",
   "language": "python",
   "name": "conda_python3"
  },
  "language_info": {
   "codemirror_mode": {
    "name": "ipython",
    "version": 3
   },
   "file_extension": ".py",
   "mimetype": "text/x-python",
   "name": "python",
   "nbconvert_exporter": "python",
   "pygments_lexer": "ipython3",
   "version": "3.6.13"
  }
 },
 "nbformat": 4,
 "nbformat_minor": 4
}
