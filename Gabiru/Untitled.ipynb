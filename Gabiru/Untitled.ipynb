{
 "cells": [
  {
   "cell_type": "code",
   "execution_count": null,
   "id": "1d9a2fa3",
   "metadata": {},
   "outputs": [],
   "source": [
    "    RF_ensemble = RandomForestClassifier('best_hyperparameters').fit(X_ensemble_val, Y_val)\n",
    "    \n",
    "    RF_ensemble_preds = RF_ensemble.predict_proba(X_ensemble_test)\n",
    "    \n",
    "    RF_ensemble_cutoff = prc(Y_test, RF_ensemble_preds)\n",
    "    \n",
    "    RF_ensemble_val_label = np.where(RF_ensemble_preds < RF_ensemble_cutoff,0,1)\n",
    "    \n",
    "    RF_ensemble_f1 = f1_score(Y_testxsx, RF_ensemble_val_label)\n",
    "    \n",
    "    \n",
    "    results_to_append([RF_ensemble,\n",
    "                       RF_ensemble_f1,\n",
    "                       RF_ensemble_cutoff\n",
    "                      ])"
   ]
  }
 ],
 "metadata": {
  "kernelspec": {
   "display_name": "conda_python3",
   "language": "python",
   "name": "conda_python3"
  },
  "language_info": {
   "codemirror_mode": {
    "name": "ipython",
    "version": 3
   },
   "file_extension": ".py",
   "mimetype": "text/x-python",
   "name": "python",
   "nbconvert_exporter": "python",
   "pygments_lexer": "ipython3",
   "version": "3.6.13"
  }
 },
 "nbformat": 4,
 "nbformat_minor": 5
}
